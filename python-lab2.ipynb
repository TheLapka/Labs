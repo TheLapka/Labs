{
 "cells": [
  {
   "cell_type": "markdown",
   "metadata": {},
   "source": [
    "# Анализ и визуализация данных\n",
    "\n",
    "## Лабораторная работа 2. Модуль `random` и введение в обработку данных с библиотекой `pandas`\n",
    "\n",
    "### Модуль `random` и псевдослучайный выбор"
   ]
  },
  {
   "cell_type": "markdown",
   "metadata": {},
   "source": [
    "Импортируем модуль `random` с сокращённым названием:"
   ]
  },
  {
   "cell_type": "code",
   "execution_count": 1,
   "metadata": {},
   "outputs": [],
   "source": [
    "import random as rd"
   ]
  },
  {
   "cell_type": "markdown",
   "metadata": {},
   "source": [
    "Если мы хотим (псевдо)случайным образом выбрать одно целое число из заданного интервала, пригодится функция `randrange()`:"
   ]
  },
  {
   "cell_type": "code",
   "execution_count": 2,
   "metadata": {},
   "outputs": [
    {
     "data": {
      "text/plain": [
       "37"
      ]
     },
     "execution_count": 2,
     "metadata": {},
     "output_type": "execute_result"
    }
   ],
   "source": [
    "# от 1 до 100, правый конец исключается\n",
    "\n",
    "rd.randrange(1, 101)"
   ]
  },
  {
   "cell_type": "markdown",
   "metadata": {},
   "source": [
    "Для воспроизводимости результатов мы можем зафиксировать стартовую точку алгоритма (*seed*), тогда у всех при запуске кода будут получаться одинаковые результаты:"
   ]
  },
  {
   "cell_type": "code",
   "execution_count": 3,
   "metadata": {},
   "outputs": [
    {
     "name": "stdout",
     "output_type": "stream",
     "text": [
      "38\n"
     ]
    }
   ],
   "source": [
    "rd.seed(2525)\n",
    "x = rd.randrange(1, 101)\n",
    "print(x)"
   ]
  },
  {
   "cell_type": "markdown",
   "metadata": {},
   "source": [
    "Если мы хотим получить набор сразу из нескольких чисел, лучше воспользоваться функцией `sample` и в качестве генеральной совокупности указать желаемый интервал чисел:"
   ]
  },
  {
   "cell_type": "code",
   "execution_count": 4,
   "metadata": {},
   "outputs": [
    {
     "data": {
      "text/plain": [
       "[21, 93, 58, 22, 70, 7, 30, 88, 71, 5]"
      ]
     },
     "execution_count": 4,
     "metadata": {},
     "output_type": "execute_result"
    }
   ],
   "source": [
    "rd.sample(population = range(1, 101), k = 10)"
   ]
  },
  {
   "cell_type": "code",
   "execution_count": 5,
   "metadata": {},
   "outputs": [
    {
     "data": {
      "text/plain": [
       "[87, 11, 73, 74, 69, 63, 62, 17, 83, 41]"
      ]
     },
     "execution_count": 5,
     "metadata": {},
     "output_type": "execute_result"
    }
   ],
   "source": [
    "rd.seed(999)\n",
    "rd.sample(population = range(1, 101), k = 10)"
   ]
  },
  {
   "cell_type": "markdown",
   "metadata": {},
   "source": [
    "Что удобно, эту же функцию можно использовать и для случайного выбора из нечисловых списков:"
   ]
  },
  {
   "cell_type": "code",
   "execution_count": 6,
   "metadata": {},
   "outputs": [
    {
     "data": {
      "text/plain": [
       "['Neville', 'Luna']"
      ]
     },
     "execution_count": 6,
     "metadata": {},
     "output_type": "execute_result"
    }
   ],
   "source": [
    "names = [\"Harry\", \"Ron\", \"Hermiona\", \"Neville\", \"Luna\"]\n",
    "rd.seed(11)\n",
    "rd.sample(names, 2)"
   ]
  },
  {
   "cell_type": "markdown",
   "metadata": {},
   "source": [
    "### Загрузка и обработка данных с `pandas`"
   ]
  },
  {
   "cell_type": "markdown",
   "metadata": {},
   "source": [
    "Импортируем библиотеку `pandas` с сокращённым названием:"
   ]
  },
  {
   "cell_type": "code",
   "execution_count": 7,
   "metadata": {},
   "outputs": [],
   "source": [
    "import pandas as pd"
   ]
  },
  {
   "cell_type": "markdown",
   "metadata": {},
   "source": [
    "В этой части практикума предлагается поработать с данными из файла `beasts.csv`, который содержит характеристики фантастических существ. Переменные в таблице:\n",
    "\n",
    "* `Name`: название существа;\n",
    "* `Class`: вид существа (если есть, если нет, дублируется название); \n",
    "* `Classification`: классификация Министерства Магии по уровням опасности;\n",
    "* `Colour`: цвет тела;\n",
    "* `Eye`: цвет глаз;\n",
    "* `Native`: происхождение и распространение;\n",
    "* `Size`: размер в дюймах."
   ]
  },
  {
   "cell_type": "markdown",
   "metadata": {},
   "source": [
    "Загрузим данные из CSV-файла:"
   ]
  },
  {
   "cell_type": "code",
   "execution_count": 8,
   "metadata": {},
   "outputs": [],
   "source": [
    "beasts = pd.read_csv(\"beasts.csv\")"
   ]
  },
  {
   "cell_type": "markdown",
   "metadata": {},
   "source": [
    "Запросим информацию по загруженной таблице:"
   ]
  },
  {
   "cell_type": "code",
   "execution_count": 9,
   "metadata": {},
   "outputs": [
    {
     "name": "stdout",
     "output_type": "stream",
     "text": [
      "<class 'pandas.core.frame.DataFrame'>\n",
      "RangeIndex: 81 entries, 0 to 80\n",
      "Data columns (total 11 columns):\n",
      " #   Column          Non-Null Count  Dtype  \n",
      "---  ------          --------------  -----  \n",
      " 0   Unnamed: 0      81 non-null     int64  \n",
      " 1   Name            81 non-null     object \n",
      " 2   Class           81 non-null     object \n",
      " 3   Classification  81 non-null     object \n",
      " 4   Colour          81 non-null     object \n",
      " 5   Eye             80 non-null     object \n",
      " 6   Native          81 non-null     object \n",
      " 7   Size            28 non-null     float64\n",
      " 8   Dragon          81 non-null     int64  \n",
      " 9   Danger2         81 non-null     int64  \n",
      " 10  Danger3         81 non-null     object \n",
      "dtypes: float64(1), int64(3), object(7)\n",
      "memory usage: 7.1+ KB\n"
     ]
    }
   ],
   "source": [
    "beasts.info()"
   ]
  },
  {
   "cell_type": "code",
   "execution_count": 10,
   "metadata": {},
   "outputs": [
    {
     "data": {
      "text/plain": [
       "(81, 11)"
      ]
     },
     "execution_count": 10,
     "metadata": {},
     "output_type": "execute_result"
    }
   ],
   "source": [
    "beasts.shape"
   ]
  },
  {
   "cell_type": "markdown",
   "metadata": {},
   "source": [
    "### Задача 1\n",
    "\n",
    "Выведите на экран список названий существ (переменная `Name`), отсортированный по алфавиту. "
   ]
  },
  {
   "cell_type": "code",
   "execution_count": 11,
   "metadata": {},
   "outputs": [
    {
     "name": "stdout",
     "output_type": "stream",
     "text": [
      "['Acromantula', 'Antipodean Opaleye', 'Ashwinder', 'Augurey', 'Basilisk', 'Billywig', 'Bowtruckle', 'Bundimun', 'Centaur', 'Chimaera', 'Chinese Fireball', 'Chizpurfle', 'Clabbert', 'Common Welsh Green', 'Crup', 'Demiguise', 'Diricawl', 'Doxy', 'Erkling', 'Erumpent', 'Fairy', 'Fire Crab', 'Flobberworm', 'Fwooper', 'Ghoul', 'Glumbumble', 'Gnome', 'Golden Snidget', 'Graphorn', 'Griffin', 'Grindylow', 'Hebridean Black', 'Hippocampus', 'Hippogriff', 'Horklump', 'Hungarian Horntail', 'Imp', 'Jarvey', 'Jobberknoll', 'Kappa', 'Kelpie', 'Knarl', 'Kneazle', 'Leprechaun', 'Lethifold', 'Lobalug', 'Mackled Malaclaw', 'Manticore', 'Merpeople', 'Moke', 'Mooncalf', 'Murtlap', 'Niffler', 'Nogtail', 'Norwegian Ridgeback', 'Nundu', 'Occamy', 'Peruvian Vipertooth', 'Phoenix', 'Pixie', 'Plimpy', 'Pogrebin', 'Porlock', 'Puffskein', 'Quintaped', \"Re'em\", 'Red Cap', 'Romanian Longhorn', 'Runespoor', 'Salamander', 'Sea serpent', 'Sphinx', 'Streeler', 'Swedish Short-Snout', 'Tebo', 'Thestral', 'Troll', 'Ukrainian Ironbelly', 'Unicorn', 'Werewolf', 'Yeti']\n"
     ]
    }
   ],
   "source": [
    "sorted_names = sorted(beasts['Name'])\n",
    "print(sorted_names)"
   ]
  },
  {
   "cell_type": "markdown",
   "metadata": {},
   "source": [
    "### Задача 2\n",
    "\n",
    "Определите, существ какого вида (переменная `Class`) больше всего."
   ]
  },
  {
   "cell_type": "code",
   "execution_count": 12,
   "metadata": {},
   "outputs": [
    {
     "name": "stdout",
     "output_type": "stream",
     "text": [
      "Dragon\n"
     ]
    }
   ],
   "source": [
    "print(beasts['Class'].describe(include=\"objects\")[\"top\"])"
   ]
  },
  {
   "cell_type": "markdown",
   "metadata": {},
   "source": [
    "### Задача 3\n",
    "\n",
    "Определите число уникальных значений цветов глаз существ (переменная `Eye`)."
   ]
  },
  {
   "cell_type": "code",
   "execution_count": 13,
   "metadata": {},
   "outputs": [
    {
     "name": "stdout",
     "output_type": "stream",
     "text": [
      "17\n",
      "17\n"
     ]
    }
   ],
   "source": [
    "unique_eye_colors1 = beasts['Eye'].nunique()\n",
    "#Что больше нравится\n",
    "unique_eye_colors2 = beasts['Eye'].describe(include=\"objects\")[\"unique\"]\n",
    "print(unique_eye_colors1)\n",
    "print(unique_eye_colors2)"
   ]
  },
  {
   "cell_type": "markdown",
   "metadata": {},
   "source": [
    "### Задача 4\n",
    "\n",
    "Добавьте в таблицу новый признак `Dragon`, который будет представлять собой закодированный вид существа: 1, если это дракон, 0 – во всех остальных случаях (переменная `Class`)."
   ]
  },
  {
   "cell_type": "code",
   "execution_count": 14,
   "metadata": {},
   "outputs": [],
   "source": [
    "beasts['Dragon'] = (beasts['Class'] == 'Dragon').astype(int)\n",
    "beasts.to_csv(\"beasts.csv\", index=False)"
   ]
  },
  {
   "cell_type": "markdown",
   "metadata": {},
   "source": [
    "### Задача 5\n",
    "\n",
    "Добавьте в таблицу новый признак `Danger2`, который будет представлять собой закодированный уровень опасности существа (переменная `Classification`): 0, если уровень опасности по классификации Министерства Магии `X` или `XX`, 1, если уровень опасности по классификации Министерства Магии `XXX`, `XXXX` или `XXXXX`."
   ]
  },
  {
   "cell_type": "code",
   "execution_count": 15,
   "metadata": {},
   "outputs": [],
   "source": [
    "beasts['Danger2'] = beasts['Classification'].apply(lambda x: 0 if x in ['X', 'XX'] else 1)\n",
    "beasts.to_csv(\"beasts.csv\", index=False)"
   ]
  },
  {
   "cell_type": "markdown",
   "metadata": {},
   "source": [
    "### Задача 6\n",
    "\n",
    "Добавьте в таблицу новый признак `Danger3`, который будет представлять собой закодированный уровень опасности существа: \n",
    "\n",
    "* `High`: если класс Министерства Магии равен 4 или 5 (`XXXX` или `XXXXX`); \n",
    "* `Medium`: если класс Министерства Магии равен 3 (`XXX`);\n",
    "* `Low`: если класс Министерства Магии равен 1 или 2 (`X` и `XX`)."
   ]
  },
  {
   "cell_type": "code",
   "execution_count": 16,
   "metadata": {},
   "outputs": [],
   "source": [
    "def classify_danger(classification):\n",
    "    if classification in ['XXXX', 'XXXXX']:\n",
    "        return 'High'\n",
    "    elif classification == 'XXX':\n",
    "        return 'Medium'\n",
    "    else:\n",
    "        return 'Low'\n",
    "\n",
    "beasts['Danger3'] = beasts['Classification'].apply(classify_danger)\n",
    "beasts.to_csv(\"beasts.csv\", index=False)"
   ]
  },
  {
   "cell_type": "markdown",
   "metadata": {},
   "source": [
    "### Задача 7\n",
    "\n",
    "Выберите строки, соответствующие драконам, и сохраните эти строки в датафрейм `dragons`."
   ]
  },
  {
   "cell_type": "code",
   "execution_count": 17,
   "metadata": {},
   "outputs": [
    {
     "name": "stdout",
     "output_type": "stream",
     "text": [
      "    Unnamed: 0                 Name   Class Classification  \\\n",
      "3            3   Antipodean Opaleye  Dragon          XXXXX   \n",
      "4            4     Chinese Fireball  Dragon          XXXXX   \n",
      "5            5   Common Welsh Green  Dragon          XXXXX   \n",
      "6            6      Hebridean Black  Dragon          XXXXX   \n",
      "7            7   Hungarian Horntail  Dragon          XXXXX   \n",
      "8            8  Norwegian Ridgeback  Dragon          XXXXX   \n",
      "9            9  Peruvian Vipertooth  Dragon          XXXXX   \n",
      "10          10    Romanian Longhorn  Dragon          XXXXX   \n",
      "11          11  Swedish Short-Snout  Dragon          XXXXX   \n",
      "12          12  Ukrainian Ironbelly  Dragon          XXXXX   \n",
      "\n",
      "                  Colour               Eye       Native   Size  Dragon  \\\n",
      "3                 Pearly    Multi-coloured  New Zealand    NaN       1   \n",
      "4                Scarlet            Yellow        China  300.0       1   \n",
      "5                  Green           No data        Wales  216.0       1   \n",
      "6                   Dark  Brilliant purple     Scotland  360.0       1   \n",
      "7                  Black            Yellow      Hungary  600.0       1   \n",
      "8             Dark green           No data       Norway    NaN       1   \n",
      "9                 Copper           No data         Peru  180.0       1   \n",
      "10            Dark green           No data      Romania  480.0       1   \n",
      "11          Silvery blue           No data       Sweden  264.0       1   \n",
      "12  Metallic grey-silver          Deep red      Ukraine    NaN       1   \n",
      "\n",
      "    Danger2 Danger3  \n",
      "3         1    High  \n",
      "4         1    High  \n",
      "5         1    High  \n",
      "6         1    High  \n",
      "7         1    High  \n",
      "8         1    High  \n",
      "9         1    High  \n",
      "10        1    High  \n",
      "11        1    High  \n",
      "12        1    High  \n"
     ]
    }
   ],
   "source": [
    "dragons = beasts[beasts['Dragon'] == 1]\n",
    "print(dragons)"
   ]
  },
  {
   "cell_type": "markdown",
   "metadata": {},
   "source": [
    "### Задача 8\n",
    "\n",
    "Выберите строки, соответствующие существам размером не менее 180 дюймов (переменная `Size`). Выведите уникальные названия видов этих существ. "
   ]
  },
  {
   "cell_type": "code",
   "execution_count": 18,
   "metadata": {},
   "outputs": [
    {
     "name": "stdout",
     "output_type": "stream",
     "text": [
      "['Acromantula' 'Basilisk' 'Dragon' 'Occamy' 'Yeti']\n"
     ]
    }
   ],
   "source": [
    "large_beasts = beasts[beasts['Size'] >= 180]\n",
    "unique_classes = large_beasts['Class'].unique()\n",
    "print(unique_classes)"
   ]
  },
  {
   "cell_type": "markdown",
   "metadata": {},
   "source": [
    "### Задача 10\n",
    "\n",
    "Выберите строки, соответствующие существам с классом Министерства Магии не ниже 4 и имеющим желтые глаза (`Yellow`). Сохраните эти строки в датафрейм `dang_yellow` и посчитайте число таких существ."
   ]
  },
  {
   "cell_type": "code",
   "execution_count": 19,
   "metadata": {},
   "outputs": [
    {
     "name": "stdout",
     "output_type": "stream",
     "text": [
      "Существа с классом магии 4 и выше с жёлтыми глазами:\n",
      "    Unnamed: 0                Name     Class Classification  \\\n",
      "1            1            Basilisk  Basilisk          XXXXX   \n",
      "4            4    Chinese Fireball    Dragon          XXXXX   \n",
      "7            7  Hungarian Horntail    Dragon          XXXXX   \n",
      "20          20             Erkling   Erkling           XXXX   \n",
      "23          23             Griffin   Griffin           XXXX   \n",
      "\n",
      "                         Colour     Eye   Native   Size  Dragon  Danger2  \\\n",
      "1                         Green  Yellow   Greece  600.0       0        1   \n",
      "4                       Scarlet  Yellow    China  300.0       1        1   \n",
      "7                         Black  Yellow  Hungary  600.0       1        1   \n",
      "20                        Green  Yellow  Germany   36.0       0        1   \n",
      "23  Brownish-yellow|White|Brown  Yellow   Greece    NaN       0        1   \n",
      "\n",
      "   Danger3  \n",
      "1     High  \n",
      "4     High  \n",
      "7     High  \n",
      "20    High  \n",
      "23    High  \n",
      "\n",
      "Колличество таких существ: 5\n"
     ]
    }
   ],
   "source": [
    "dang_yellow = beasts[(beasts['Classification'].isin(['XXXX', 'XXXXX'])) & (beasts['Eye'] == 'Yellow')]\n",
    "count_dang_yellow = len(dang_yellow)\n",
    "\n",
    "print(f'Существа с классом магии 4 и выше с жёлтыми глазами:\\n{dang_yellow}\\n')\n",
    "print(f\"Колличество таких существ: {count_dang_yellow}\")"
   ]
  },
  {
   "cell_type": "markdown",
   "metadata": {},
   "source": [
    "### Задача 11\n",
    "\n",
    "Выберите строки, соответствующие существам, обитающим в Северной или Южной Америке (значения переменной `Native`, содержащие слово `America`) и сохраните их в датафрейм `beasts_am`."
   ]
  },
  {
   "cell_type": "code",
   "execution_count": 20,
   "metadata": {},
   "outputs": [
    {
     "name": "stdout",
     "output_type": "stream",
     "text": [
      "    Unnamed: 0         Name        Class Classification              Colour  \\\n",
      "29          29        Re'em        Re'em           XXXX              Golden   \n",
      "42          42         Doxy         Doxy            XXX  Purple|Brown|Black   \n",
      "48          48       Jarvey       Jarvey            XXX               Brown   \n",
      "49          49        Knarl        Knarl            XXX               Brown   \n",
      "57          57      Nogtail      Nogtail            XXX             No data   \n",
      "72          72        Gnome        Gnome             XX          Brown|Lime   \n",
      "75          75  Jobberknoll  Jobberknoll             XX       Speckled blue   \n",
      "\n",
      "        Eye                                     Native  Size  Dragon  Danger2  \\\n",
      "29  No data                     North America|Far East   NaN       0        1   \n",
      "42  No data                       North America|Europe   NaN       0        1   \n",
      "48    Black        Great Britain|Ireland|North America   NaN       0        1   \n",
      "49    Black                       Europe|North America   NaN       0        1   \n",
      "57    Black  Europe|Russia|North America|South America   NaN       0        1   \n",
      "72  No data                       Europe|North America  12.0       0        0   \n",
      "75    Black                       Europe|North America   NaN       0        0   \n",
      "\n",
      "   Danger3  \n",
      "29    High  \n",
      "42  Medium  \n",
      "48  Medium  \n",
      "49  Medium  \n",
      "57  Medium  \n",
      "72     Low  \n",
      "75     Low  \n"
     ]
    }
   ],
   "source": [
    "beasts_am = beasts[beasts['Native'].str.contains('America', na=False)]\n",
    "print(beasts_am)"
   ]
  },
  {
   "cell_type": "markdown",
   "metadata": {},
   "source": [
    "### Задача 12\n",
    "\n",
    "Выберите строки, соответствующие пяти случайно выбранным существам ниже:"
   ]
  },
  {
   "cell_type": "code",
   "execution_count": 21,
   "metadata": {},
   "outputs": [
    {
     "name": "stdout",
     "output_type": "stream",
     "text": [
      "['Niffler', 'Manticore', 'Acromantula', 'Swedish Short-Snout', 'Imp']\n"
     ]
    }
   ],
   "source": [
    "rd.seed(1234)\n",
    "chosen = rd.sample(list(beasts[\"Name\"]), 5)\n",
    "print(chosen)"
   ]
  },
  {
   "cell_type": "code",
   "execution_count": 22,
   "metadata": {},
   "outputs": [
    {
     "name": "stdout",
     "output_type": "stream",
     "text": [
      "    Unnamed: 0                 Name        Class Classification        Colour  \\\n",
      "0            0          Acromantula  Acromantula          XXXXX     Jet-Black   \n",
      "11          11  Swedish Short-Snout       Dragon          XXXXX  Silvery blue   \n",
      "14          14            Manticore    Manticore          XXXXX        Golden   \n",
      "56          56              Niffler      Niffler            XXX         Black   \n",
      "74          74                  Imp          Imp             XX          Grey   \n",
      "\n",
      "        Eye                 Native   Size  Dragon  Danger2 Danger3  \n",
      "0     Black       Island of Borneo  180.0       0        1    High  \n",
      "11  No data                 Sweden  264.0       1        1    High  \n",
      "14  No data                 Greece    NaN       0        1    High  \n",
      "56  No data          Great Britain    NaN       0        1  Medium  \n",
      "74   Yellow  Great Britain|Ireland    7.0       0        0     Low  \n"
     ]
    }
   ],
   "source": [
    "selected_beasts = beasts[beasts['Name'].isin(chosen)]\n",
    "print(selected_beasts)"
   ]
  },
  {
   "cell_type": "code",
   "execution_count": null,
   "metadata": {},
   "outputs": [],
   "source": []
  }
 ],
 "metadata": {
  "kernelspec": {
   "display_name": "Python 3 (ipykernel)",
   "language": "python",
   "name": "python3"
  },
  "language_info": {
   "codemirror_mode": {
    "name": "ipython",
    "version": 3
   },
   "file_extension": ".py",
   "mimetype": "text/x-python",
   "name": "python",
   "nbconvert_exporter": "python",
   "pygments_lexer": "ipython3",
   "version": "3.10.12"
  }
 },
 "nbformat": 4,
 "nbformat_minor": 4
}
