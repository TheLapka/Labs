{
 "cells": [
  {
   "cell_type": "markdown",
   "metadata": {},
   "source": [
    "# Анализ и визуализация данных\n",
    "\n",
    "## Лабораторная 3. Описательные статистики, группировка и агрегирование данных с `pandas`\n"
   ]
  },
  {
   "cell_type": "markdown",
   "metadata": {},
   "source": [
    "В этом практикуме предлагается поработать с данными из части C демонстрационного варианта независимого экзамена. В первой части практикума мы разберём задачи непосредственно из экзамена, а во второй части посмотрим ещё на несколько примеров работы с данными (вопросы не из экзамена, из жизни)."
   ]
  },
  {
   "cell_type": "markdown",
   "metadata": {},
   "source": [
    "Файл `c.xlsx` содержит данные о рейтингах видео-игр по данным Metacritic. Набор данных содержит следующие переменные:\n",
    "\n",
    "* `Name` – название игры.\n",
    "* `Platform` – платформа для запуска игры.\n",
    "* `Year_of_Release` – год запуска игры.\n",
    "* `Genre` – жанр игры.\n",
    "* `Publisher` – компания, выпустившая игру.\n",
    "* `NA_Sales` – продажи в Северной Америке (миллионы копий).\n",
    "* `EU_Sales` – продажи в Европейском Союзе (миллионы копий).\n",
    "* `JP_Sales` – продажи в Японии (миллионы копий).\n",
    "* `Other_Sales` – продажи в прочих странах (миллионы копий).\n",
    "* `Global_Sales` – общие продажи по миру (миллионы копий).\n",
    "* `Critic_Score` – агрегированный рейтинг команды Metacritic.\n",
    "* `Critic_Count` – количество экспертов, участвовавших в расчёте `Critic_Score`.\n",
    "* `User_Score` – агрегированный рейтинг пользователей Metacritic.\n",
    "* `User_Count` – количество пользователей, участвовавших в расчёте `User_Score`.\n",
    "* `Developer` – разработчик игры.\n",
    "* `Rating` – рейтинг ESRB (Everyone, Teen, Adults Only, ...)."
   ]
  },
  {
   "cell_type": "markdown",
   "metadata": {},
   "source": [
    "Импортируем библиотеку `pandas` с сокращённым названием:"
   ]
  },
  {
   "cell_type": "code",
   "execution_count": 1,
   "metadata": {},
   "outputs": [],
   "source": [
    "import pandas as pd"
   ]
  },
  {
   "cell_type": "markdown",
   "metadata": {},
   "source": [
    "Загрузим данные из файла:"
   ]
  },
  {
   "cell_type": "code",
   "execution_count": 2,
   "metadata": {},
   "outputs": [],
   "source": [
    "games = pd.read_excel(\"c.xlsx\")"
   ]
  },
  {
   "cell_type": "markdown",
   "metadata": {},
   "source": [
    "Выведем описательные статистики для каждого числового (`int` или `float`) столбца, полезная информация на первом этапе работы с данными:"
   ]
  },
  {
   "cell_type": "code",
   "execution_count": 3,
   "metadata": {},
   "outputs": [
    {
     "data": {
      "text/html": [
       "<div>\n",
       "<style scoped>\n",
       "    .dataframe tbody tr th:only-of-type {\n",
       "        vertical-align: middle;\n",
       "    }\n",
       "\n",
       "    .dataframe tbody tr th {\n",
       "        vertical-align: top;\n",
       "    }\n",
       "\n",
       "    .dataframe thead th {\n",
       "        text-align: right;\n",
       "    }\n",
       "</style>\n",
       "<table border=\"1\" class=\"dataframe\">\n",
       "  <thead>\n",
       "    <tr style=\"text-align: right;\">\n",
       "      <th></th>\n",
       "      <th>Unnamed: 0</th>\n",
       "      <th>Year_of_Release</th>\n",
       "      <th>NA_Sales</th>\n",
       "      <th>EU_Sales</th>\n",
       "      <th>JP_Sales</th>\n",
       "      <th>Other_Sales</th>\n",
       "      <th>Global_Sales</th>\n",
       "      <th>Critic_Score</th>\n",
       "      <th>Critic_Count</th>\n",
       "      <th>User_Count</th>\n",
       "    </tr>\n",
       "  </thead>\n",
       "  <tbody>\n",
       "    <tr>\n",
       "      <th>count</th>\n",
       "      <td>16719.000000</td>\n",
       "      <td>16450.000000</td>\n",
       "      <td>16719.000000</td>\n",
       "      <td>16719.000000</td>\n",
       "      <td>16719.000000</td>\n",
       "      <td>16719.000000</td>\n",
       "      <td>16719.000000</td>\n",
       "      <td>8137.000000</td>\n",
       "      <td>8137.000000</td>\n",
       "      <td>7590.000000</td>\n",
       "    </tr>\n",
       "    <tr>\n",
       "      <th>mean</th>\n",
       "      <td>8359.000000</td>\n",
       "      <td>2006.487356</td>\n",
       "      <td>0.263330</td>\n",
       "      <td>0.145025</td>\n",
       "      <td>0.077602</td>\n",
       "      <td>0.047332</td>\n",
       "      <td>0.533543</td>\n",
       "      <td>68.967679</td>\n",
       "      <td>26.360821</td>\n",
       "      <td>162.229908</td>\n",
       "    </tr>\n",
       "    <tr>\n",
       "      <th>std</th>\n",
       "      <td>4826.503911</td>\n",
       "      <td>5.878995</td>\n",
       "      <td>0.813514</td>\n",
       "      <td>0.503283</td>\n",
       "      <td>0.308818</td>\n",
       "      <td>0.186710</td>\n",
       "      <td>1.547935</td>\n",
       "      <td>13.938165</td>\n",
       "      <td>18.980495</td>\n",
       "      <td>561.282326</td>\n",
       "    </tr>\n",
       "    <tr>\n",
       "      <th>min</th>\n",
       "      <td>0.000000</td>\n",
       "      <td>1980.000000</td>\n",
       "      <td>0.000000</td>\n",
       "      <td>0.000000</td>\n",
       "      <td>0.000000</td>\n",
       "      <td>0.000000</td>\n",
       "      <td>0.010000</td>\n",
       "      <td>13.000000</td>\n",
       "      <td>3.000000</td>\n",
       "      <td>4.000000</td>\n",
       "    </tr>\n",
       "    <tr>\n",
       "      <th>25%</th>\n",
       "      <td>4179.500000</td>\n",
       "      <td>2003.000000</td>\n",
       "      <td>0.000000</td>\n",
       "      <td>0.000000</td>\n",
       "      <td>0.000000</td>\n",
       "      <td>0.000000</td>\n",
       "      <td>0.060000</td>\n",
       "      <td>60.000000</td>\n",
       "      <td>12.000000</td>\n",
       "      <td>10.000000</td>\n",
       "    </tr>\n",
       "    <tr>\n",
       "      <th>50%</th>\n",
       "      <td>8359.000000</td>\n",
       "      <td>2007.000000</td>\n",
       "      <td>0.080000</td>\n",
       "      <td>0.020000</td>\n",
       "      <td>0.000000</td>\n",
       "      <td>0.010000</td>\n",
       "      <td>0.170000</td>\n",
       "      <td>71.000000</td>\n",
       "      <td>21.000000</td>\n",
       "      <td>24.000000</td>\n",
       "    </tr>\n",
       "    <tr>\n",
       "      <th>75%</th>\n",
       "      <td>12538.500000</td>\n",
       "      <td>2010.000000</td>\n",
       "      <td>0.240000</td>\n",
       "      <td>0.110000</td>\n",
       "      <td>0.040000</td>\n",
       "      <td>0.030000</td>\n",
       "      <td>0.470000</td>\n",
       "      <td>79.000000</td>\n",
       "      <td>36.000000</td>\n",
       "      <td>81.000000</td>\n",
       "    </tr>\n",
       "    <tr>\n",
       "      <th>max</th>\n",
       "      <td>16718.000000</td>\n",
       "      <td>2020.000000</td>\n",
       "      <td>41.360000</td>\n",
       "      <td>28.960000</td>\n",
       "      <td>10.220000</td>\n",
       "      <td>10.570000</td>\n",
       "      <td>82.530000</td>\n",
       "      <td>98.000000</td>\n",
       "      <td>113.000000</td>\n",
       "      <td>10665.000000</td>\n",
       "    </tr>\n",
       "  </tbody>\n",
       "</table>\n",
       "</div>"
      ],
      "text/plain": [
       "         Unnamed: 0  Year_of_Release      NA_Sales      EU_Sales  \\\n",
       "count  16719.000000     16450.000000  16719.000000  16719.000000   \n",
       "mean    8359.000000      2006.487356      0.263330      0.145025   \n",
       "std     4826.503911         5.878995      0.813514      0.503283   \n",
       "min        0.000000      1980.000000      0.000000      0.000000   \n",
       "25%     4179.500000      2003.000000      0.000000      0.000000   \n",
       "50%     8359.000000      2007.000000      0.080000      0.020000   \n",
       "75%    12538.500000      2010.000000      0.240000      0.110000   \n",
       "max    16718.000000      2020.000000     41.360000     28.960000   \n",
       "\n",
       "           JP_Sales   Other_Sales  Global_Sales  Critic_Score  Critic_Count  \\\n",
       "count  16719.000000  16719.000000  16719.000000   8137.000000   8137.000000   \n",
       "mean       0.077602      0.047332      0.533543     68.967679     26.360821   \n",
       "std        0.308818      0.186710      1.547935     13.938165     18.980495   \n",
       "min        0.000000      0.000000      0.010000     13.000000      3.000000   \n",
       "25%        0.000000      0.000000      0.060000     60.000000     12.000000   \n",
       "50%        0.000000      0.010000      0.170000     71.000000     21.000000   \n",
       "75%        0.040000      0.030000      0.470000     79.000000     36.000000   \n",
       "max       10.220000     10.570000     82.530000     98.000000    113.000000   \n",
       "\n",
       "         User_Count  \n",
       "count   7590.000000  \n",
       "mean     162.229908  \n",
       "std      561.282326  \n",
       "min        4.000000  \n",
       "25%       10.000000  \n",
       "50%       24.000000  \n",
       "75%       81.000000  \n",
       "max    10665.000000  "
      ]
     },
     "execution_count": 3,
     "metadata": {},
     "output_type": "execute_result"
    }
   ],
   "source": [
    "games.describe() # проинтерпретируем"
   ]
  },
  {
   "cell_type": "markdown",
   "metadata": {},
   "source": [
    "Для текстовых данных метод `.describe()` тоже работает, нужно только указать, что нас интересует тип `object`:"
   ]
  },
  {
   "cell_type": "code",
   "execution_count": 4,
   "metadata": {},
   "outputs": [
    {
     "data": {
      "text/html": [
       "<div>\n",
       "<style scoped>\n",
       "    .dataframe tbody tr th:only-of-type {\n",
       "        vertical-align: middle;\n",
       "    }\n",
       "\n",
       "    .dataframe tbody tr th {\n",
       "        vertical-align: top;\n",
       "    }\n",
       "\n",
       "    .dataframe thead th {\n",
       "        text-align: right;\n",
       "    }\n",
       "</style>\n",
       "<table border=\"1\" class=\"dataframe\">\n",
       "  <thead>\n",
       "    <tr style=\"text-align: right;\">\n",
       "      <th></th>\n",
       "      <th>Name</th>\n",
       "      <th>Platform</th>\n",
       "      <th>Genre</th>\n",
       "      <th>Publisher</th>\n",
       "      <th>User_Score</th>\n",
       "      <th>Developer</th>\n",
       "      <th>Rating</th>\n",
       "    </tr>\n",
       "  </thead>\n",
       "  <tbody>\n",
       "    <tr>\n",
       "      <th>count</th>\n",
       "      <td>16717</td>\n",
       "      <td>16719</td>\n",
       "      <td>16717</td>\n",
       "      <td>16665</td>\n",
       "      <td>10015</td>\n",
       "      <td>10096</td>\n",
       "      <td>9950</td>\n",
       "    </tr>\n",
       "    <tr>\n",
       "      <th>unique</th>\n",
       "      <td>11562</td>\n",
       "      <td>31</td>\n",
       "      <td>12</td>\n",
       "      <td>581</td>\n",
       "      <td>96</td>\n",
       "      <td>1696</td>\n",
       "      <td>8</td>\n",
       "    </tr>\n",
       "    <tr>\n",
       "      <th>top</th>\n",
       "      <td>Need for Speed: Most Wanted</td>\n",
       "      <td>PS2</td>\n",
       "      <td>Action</td>\n",
       "      <td>Electronic Arts</td>\n",
       "      <td>tbd</td>\n",
       "      <td>Ubisoft</td>\n",
       "      <td>E</td>\n",
       "    </tr>\n",
       "    <tr>\n",
       "      <th>freq</th>\n",
       "      <td>12</td>\n",
       "      <td>2161</td>\n",
       "      <td>3370</td>\n",
       "      <td>1356</td>\n",
       "      <td>2425</td>\n",
       "      <td>204</td>\n",
       "      <td>3991</td>\n",
       "    </tr>\n",
       "  </tbody>\n",
       "</table>\n",
       "</div>"
      ],
      "text/plain": [
       "                               Name Platform   Genre        Publisher  \\\n",
       "count                         16717    16719   16717            16665   \n",
       "unique                        11562       31      12              581   \n",
       "top     Need for Speed: Most Wanted      PS2  Action  Electronic Arts   \n",
       "freq                             12     2161    3370             1356   \n",
       "\n",
       "       User_Score Developer Rating  \n",
       "count       10015     10096   9950  \n",
       "unique         96      1696      8  \n",
       "top           tbd   Ubisoft      E  \n",
       "freq         2425       204   3991  "
      ]
     },
     "execution_count": 4,
     "metadata": {},
     "output_type": "execute_result"
    }
   ],
   "source": [
    "games.describe(include = \"object\") # проинтерпретируем"
   ]
  },
  {
   "cell_type": "markdown",
   "metadata": {},
   "source": [
    "В целом, если описать данные в самом начале, уже на некоторые вопросы части C мы сможем ответить без дополнительного кода. Но на функции для отдельных описательных статистик мы тоже посмотрим!"
   ]
  },
  {
   "cell_type": "markdown",
   "metadata": {},
   "source": [
    "## Часть 1: описательные статистики"
   ]
  },
  {
   "cell_type": "markdown",
   "metadata": {},
   "source": [
    "### Задача 1\n",
    "\n",
    "Вычислите среднее по продажам в Северной Америке (в миллионах копий) – переменная `NA_Sales`.\n",
    "\n",
    "Пример ответа: 13.20"
   ]
  },
  {
   "cell_type": "code",
   "execution_count": 5,
   "metadata": {},
   "outputs": [
    {
     "name": "stdout",
     "output_type": "stream",
     "text": [
      "0.26\n"
     ]
    }
   ],
   "source": [
    "mean_na_sales = games['NA_Sales'].mean()\n",
    "print(round(mean_na_sales, 2))"
   ]
  },
  {
   "cell_type": "markdown",
   "metadata": {},
   "source": [
    "### Задача 2\n",
    "\n",
    "Вычислите минимальное значение по продажам в Северной Америке (в миллионах копий) – переменная `NA_Sales`.\n",
    "\n",
    "Пример ответа: 12.00"
   ]
  },
  {
   "cell_type": "code",
   "execution_count": 6,
   "metadata": {},
   "outputs": [
    {
     "name": "stdout",
     "output_type": "stream",
     "text": [
      "Если считать с нулями: 0.0\n",
      "Если считать без нулей: 0.01\n"
     ]
    }
   ],
   "source": [
    "min_na_sales = games['NA_Sales'].min()\n",
    "print(f\"Если считать с нулями: {round(min_na_sales, 2)}\")\n",
    "min_na_sales_not_zero = games.loc[games['NA_Sales'] > 0, 'NA_Sales'].min()\n",
    "print(f\"Если считать без нулей: {round(min_na_sales_not_zero, 2)}\")"
   ]
  },
  {
   "cell_type": "markdown",
   "metadata": {},
   "source": [
    "### Задача 3\n",
    "\n",
    "Вычислите стандартное отклонение по продажам в Северной Америке (в миллионах копий) – переменная `NA_Sales`.\n",
    "\n",
    "Пример ответа: 20.04"
   ]
  },
  {
   "cell_type": "code",
   "execution_count": 7,
   "metadata": {},
   "outputs": [
    {
     "name": "stdout",
     "output_type": "stream",
     "text": [
      "0.81\n"
     ]
    }
   ],
   "source": [
    "std_na_sales = games['NA_Sales'].std()\n",
    "print(round(std_na_sales, 2))"
   ]
  },
  {
   "cell_type": "markdown",
   "metadata": {},
   "source": [
    "### Задача 4\n",
    "\n",
    "Определите наиболее часто встречающийся жанр игр.\n",
    "\n",
    "Пример ответа: Simulation"
   ]
  },
  {
   "cell_type": "code",
   "execution_count": 8,
   "metadata": {},
   "outputs": [
    {
     "name": "stdout",
     "output_type": "stream",
     "text": [
      "Action\n"
     ]
    }
   ],
   "source": [
    "most_common_genre = games['Genre'].mode()[0]\n",
    "print(most_common_genre)"
   ]
  },
  {
   "cell_type": "markdown",
   "metadata": {},
   "source": [
    "### Задача 5\n",
    "\n",
    "Добавьте в таблицу новый признак `Platform_Coded`, который будет представлять собой закодированное название платформы для запуска игры. Кодировку проведите следующим образом: если платформа – это `PS3`, то код равен 1, а если любая другая, то код равен 0. \n",
    "\n",
    "Выведите среднее по признаку `Platform_Coded`, округлённое до сотых."
   ]
  },
  {
   "cell_type": "code",
   "execution_count": 9,
   "metadata": {},
   "outputs": [
    {
     "name": "stdout",
     "output_type": "stream",
     "text": [
      "Обновленная таблица сохранена как 'с_new.xlsx'.\n",
      "0.08\n"
     ]
    }
   ],
   "source": [
    "games['Platform_Coded'] = (games['Platform'] == 'PS3').astype(int)\n",
    "\n",
    "games.to_excel(\"с_new.xlsx\", index=False)\n",
    "print(\"Обновленная таблица сохранена как 'с_new.xlsx'.\")\n",
    "\n",
    "mean_platform_coded = round(games['Platform_Coded'].mean(), 2)\n",
    "print(mean_platform_coded)"
   ]
  },
  {
   "cell_type": "markdown",
   "metadata": {},
   "source": [
    "### Задача 6\n",
    "\n",
    "Вычислите средний агрегированный рейтинг команды Metacritic для игр, выпущенных (published) компаниями Tecmo Koei или Wanadoo. Выпишите полученное значение, округлённое до сотых.\n",
    "\n",
    "Пример ответа: 17.20"
   ]
  },
  {
   "cell_type": "code",
   "execution_count": 10,
   "metadata": {},
   "outputs": [
    {
     "name": "stdout",
     "output_type": "stream",
     "text": [
      "65.6\n"
     ]
    }
   ],
   "source": [
    "filter_publishers = games['Publisher'].isin(['Tecmo Koei', 'Wanadoo'])\n",
    "mean_critic_score = games.loc[filter_publishers, 'Critic_Score'].mean()\n",
    "print(round(mean_critic_score, 2))"
   ]
  },
  {
   "cell_type": "markdown",
   "metadata": {},
   "source": [
    "## Часть 2: группировка и агрегирование"
   ]
  },
  {
   "cell_type": "markdown",
   "metadata": {},
   "source": [
    "### Задача 7\n",
    "\n",
    "Сгруппируйте игры по жанру и вычислите среднее число продаж в Европейском союзе для каждого жанра."
   ]
  },
  {
   "cell_type": "code",
   "execution_count": 11,
   "metadata": {},
   "outputs": [
    {
     "name": "stdout",
     "output_type": "stream",
     "text": [
      "Genre\n",
      "Action          0.154045\n",
      "Adventure       0.048764\n",
      "Fighting        0.118174\n",
      "Misc            0.121566\n",
      "Platform        0.225619\n",
      "Puzzle          0.086224\n",
      "Racing          0.189359\n",
      "Role-Playing    0.125807\n",
      "Shooter         0.239864\n",
      "Simulation      0.129886\n",
      "Sports          0.160473\n",
      "Strategy        0.066135\n",
      "Name: EU_Sales, dtype: float64\n"
     ]
    }
   ],
   "source": [
    "mean_sales_by_genre = games.groupby('Genre')['EU_Sales'].mean()\n",
    "print(mean_sales_by_genre)"
   ]
  },
  {
   "cell_type": "markdown",
   "metadata": {},
   "source": [
    "### Задача 8\n",
    "\n",
    "Сгруппируйте игры по жанру и вычислите медианное число продаж в Европейском союзе для каждого жанра."
   ]
  },
  {
   "cell_type": "code",
   "execution_count": 12,
   "metadata": {},
   "outputs": [
    {
     "name": "stdout",
     "output_type": "stream",
     "text": [
      "Genre\n",
      "Action          0.03\n",
      "Adventure       0.00\n",
      "Fighting        0.02\n",
      "Misc            0.01\n",
      "Platform        0.05\n",
      "Puzzle          0.01\n",
      "Racing          0.04\n",
      "Role-Playing    0.01\n",
      "Shooter         0.05\n",
      "Simulation      0.01\n",
      "Sports          0.02\n",
      "Strategy        0.01\n",
      "Name: EU_Sales, dtype: float64\n"
     ]
    }
   ],
   "source": [
    "median_sales_by_genre = games.groupby('Genre')['EU_Sales'].median()\n",
    "print(median_sales_by_genre)"
   ]
  },
  {
   "cell_type": "markdown",
   "metadata": {},
   "source": [
    "### Задача 9\n",
    "\n",
    "Сгруппируйте игры по жанру и вычислите минимальное и максимальное значение пользовательского рейтинга `User_Score` для каждого жанра. Добавьте в получившуюся таблицу столбец с размахом пользовательского рейтинга для каждого жанра. Игры какого жанра имеют наиболее разнообразные значения рейтинга?"
   ]
  },
  {
   "cell_type": "code",
   "execution_count": 13,
   "metadata": {},
   "outputs": [
    {
     "name": "stdout",
     "output_type": "stream",
     "text": [
      "              min  max\n",
      "Genre                 \n",
      "Action        0.3  9.5\n",
      "Adventure     0.0  9.4\n",
      "Fighting      0.9  9.2\n",
      "Misc          0.5  9.2\n",
      "Platform      0.2  9.4\n",
      "Puzzle        1.1  9.5\n",
      "Racing        0.3  9.5\n",
      "Role-Playing  1.4  9.7\n",
      "Shooter       1.2  9.3\n",
      "Simulation    2.1  9.6\n",
      "Sports        0.2  9.5\n",
      "Strategy      0.6  9.4\n",
      "              min  max  Range\n",
      "Genre                        \n",
      "Action        0.3  9.5    9.2\n",
      "Adventure     0.0  9.4    9.4\n",
      "Fighting      0.9  9.2    8.3\n",
      "Misc          0.5  9.2    8.7\n",
      "Platform      0.2  9.4    9.2\n",
      "Puzzle        1.1  9.5    8.4\n",
      "Racing        0.3  9.5    9.2\n",
      "Role-Playing  1.4  9.7    8.3\n",
      "Shooter       1.2  9.3    8.1\n",
      "Simulation    2.1  9.6    7.5\n",
      "Sports        0.2  9.5    9.3\n",
      "Strategy      0.6  9.4    8.8\n",
      "Жанр с наиболее разнообразными значениями рейтинга: Adventure.\n"
     ]
    }
   ],
   "source": [
    "games['User_Score'] = pd.to_numeric(games['User_Score'], errors='coerce')\n",
    "\n",
    "grouped_user_scores = games.groupby('Genre')['User_Score'].agg(['min', 'max'])\n",
    "print(grouped_user_scores)\n",
    "\n",
    "grouped_user_scores['Range'] = grouped_user_scores['max'] - grouped_user_scores['min']\n",
    "print(grouped_user_scores)\n",
    "\n",
    "most_varied_genre = grouped_user_scores['Range'].idxmax()\n",
    "print(f\"Жанр с наиболее разнообразными значениями рейтинга: {most_varied_genre}.\")"
   ]
  },
  {
   "cell_type": "markdown",
   "metadata": {},
   "source": [
    "### Задача 10\n",
    "\n",
    "Сформируйте таблицу сопряжённости, по строкам которой указаны значения жанра игры (`Genre`), а по столбцам – значения возрастного рейтинга игры (`Rating`). Подробнее о значениях рейтинга можно почитать [здесь](https://www.esrb.org/ratings-guide/)."
   ]
  },
  {
   "cell_type": "code",
   "execution_count": 14,
   "metadata": {},
   "outputs": [
    {
     "name": "stdout",
     "output_type": "stream",
     "text": [
      "Rating        AO     E  E10+  EC  K-A    M  RP    T\n",
      "Genre                                              \n",
      "Action         1   416   481   1    0  608   0  681\n",
      "Adventure      0   162    68   2    0   99   0  115\n",
      "Fighting       0     8    19   0    0   49   0  362\n",
      "Misc           0   457   167   5    1   13   0  239\n",
      "Platform       0   358   144   0    0    3   0   64\n",
      "Puzzle         0   289    43   0    0    0   0   10\n",
      "Racing         0   585    96   0    0   18   1  172\n",
      "Role-Playing   0    84   111   0    0  162   0  420\n",
      "Shooter        0    48    58   0    0  565   0  348\n",
      "Simulation     0   326    48   0    0    5   0  190\n",
      "Sports         0  1188   107   0    0   16   0  198\n",
      "Strategy       0    70    78   0    2   25   2  162\n"
     ]
    }
   ],
   "source": [
    "genre_rating_crosstab = pd.crosstab(games['Genre'], games['Rating'])\n",
    "print(genre_rating_crosstab)"
   ]
  }
 ],
 "metadata": {
  "kernelspec": {
   "display_name": "Python 3 (ipykernel)",
   "language": "python",
   "name": "python3"
  },
  "language_info": {
   "codemirror_mode": {
    "name": "ipython",
    "version": 3
   },
   "file_extension": ".py",
   "mimetype": "text/x-python",
   "name": "python",
   "nbconvert_exporter": "python",
   "pygments_lexer": "ipython3",
   "version": "3.10.12"
  }
 },
 "nbformat": 4,
 "nbformat_minor": 4
}
