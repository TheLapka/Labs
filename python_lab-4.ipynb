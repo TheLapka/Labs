{
 "cells": [
  {
   "cell_type": "markdown",
   "metadata": {},
   "source": [
    "# Анализ и визуализация данных\n",
    "\n",
    "## Лабораторная 4. Обработка пропущенных значений и визуализация количественных данных"
   ]
  },
  {
   "cell_type": "markdown",
   "metadata": {},
   "source": [
    "Файл `c.xlsx` содержит данные о рейтингах видео-игр по данным Metacritic. Набор данных содержит следующие переменные:\n",
    "\n",
    "* `Name` – название игры.\n",
    "* `Platform` – платформа для запуска игры.\n",
    "* `Year_of_Release` – год запуска игры.\n",
    "* `Genre` – жанр игры.\n",
    "* `Publisher` – компания, выпустившая игру.\n",
    "* `NA_Sales` – продажи в Северной Америке (миллионы копий).\n",
    "* `EU_Sales` – продажи в Европейском Союзе (миллионы копий).\n",
    "* `JP_Sales` – продажи в Японии (миллионы копий).\n",
    "* `Other_Sales` – продажи в прочих странах (миллионы копий).\n",
    "* `Global_Sales` – общие продажи по миру (миллионы копий).\n",
    "* `Critic_Score` – агрегированный рейтинг команды Metacritic.\n",
    "* `Critic_Count` – количество экспертов, участвовавших в расчёте `Critic_Score`.\n",
    "* `User_Score` – агрегированный рейтинг пользователей Metacritic.\n",
    "* `User_Count` – количество пользователей, участвовавших в расчёте `User_Score`.\n",
    "* `Developer` – разработчик игры.\n",
    "* `Rating` – рейтинг ESRB (Everyone, Teen, Adults Only, ...)."
   ]
  },
  {
   "cell_type": "markdown",
   "metadata": {},
   "source": [
    "Импортируем библиотеку `pandas` с сокращённым названием:"
   ]
  },
  {
   "cell_type": "code",
   "execution_count": 1,
   "metadata": {},
   "outputs": [],
   "source": [
    "import pandas as pd"
   ]
  },
  {
   "cell_type": "markdown",
   "metadata": {},
   "source": [
    "Загрузим данные из файла:"
   ]
  },
  {
   "cell_type": "code",
   "execution_count": 2,
   "metadata": {},
   "outputs": [],
   "source": [
    "games = pd.read_excel(\"c.xlsx\")"
   ]
  },
  {
   "cell_type": "markdown",
   "metadata": {},
   "source": [
    "Вспомним, как выглядит датафрейм:"
   ]
  },
  {
   "cell_type": "code",
   "execution_count": 3,
   "metadata": {},
   "outputs": [
    {
     "data": {
      "text/html": [
       "<div>\n",
       "<style scoped>\n",
       "    .dataframe tbody tr th:only-of-type {\n",
       "        vertical-align: middle;\n",
       "    }\n",
       "\n",
       "    .dataframe tbody tr th {\n",
       "        vertical-align: top;\n",
       "    }\n",
       "\n",
       "    .dataframe thead th {\n",
       "        text-align: right;\n",
       "    }\n",
       "</style>\n",
       "<table border=\"1\" class=\"dataframe\">\n",
       "  <thead>\n",
       "    <tr style=\"text-align: right;\">\n",
       "      <th></th>\n",
       "      <th>Unnamed: 0</th>\n",
       "      <th>Name</th>\n",
       "      <th>Platform</th>\n",
       "      <th>Year_of_Release</th>\n",
       "      <th>Genre</th>\n",
       "      <th>Publisher</th>\n",
       "      <th>NA_Sales</th>\n",
       "      <th>EU_Sales</th>\n",
       "      <th>JP_Sales</th>\n",
       "      <th>Other_Sales</th>\n",
       "      <th>Global_Sales</th>\n",
       "      <th>Critic_Score</th>\n",
       "      <th>Critic_Count</th>\n",
       "      <th>User_Score</th>\n",
       "      <th>User_Count</th>\n",
       "      <th>Developer</th>\n",
       "      <th>Rating</th>\n",
       "    </tr>\n",
       "  </thead>\n",
       "  <tbody>\n",
       "    <tr>\n",
       "      <th>0</th>\n",
       "      <td>0</td>\n",
       "      <td>Wii Sports</td>\n",
       "      <td>Wii</td>\n",
       "      <td>2006.0</td>\n",
       "      <td>Sports</td>\n",
       "      <td>Nintendo</td>\n",
       "      <td>41.36</td>\n",
       "      <td>28.96</td>\n",
       "      <td>3.77</td>\n",
       "      <td>8.45</td>\n",
       "      <td>82.53</td>\n",
       "      <td>76.0</td>\n",
       "      <td>51.0</td>\n",
       "      <td>8</td>\n",
       "      <td>322.0</td>\n",
       "      <td>Nintendo</td>\n",
       "      <td>E</td>\n",
       "    </tr>\n",
       "    <tr>\n",
       "      <th>1</th>\n",
       "      <td>1</td>\n",
       "      <td>Super Mario Bros.</td>\n",
       "      <td>NES</td>\n",
       "      <td>1985.0</td>\n",
       "      <td>Platform</td>\n",
       "      <td>Nintendo</td>\n",
       "      <td>29.08</td>\n",
       "      <td>3.58</td>\n",
       "      <td>6.81</td>\n",
       "      <td>0.77</td>\n",
       "      <td>40.24</td>\n",
       "      <td>NaN</td>\n",
       "      <td>NaN</td>\n",
       "      <td>NaN</td>\n",
       "      <td>NaN</td>\n",
       "      <td>NaN</td>\n",
       "      <td>NaN</td>\n",
       "    </tr>\n",
       "    <tr>\n",
       "      <th>2</th>\n",
       "      <td>2</td>\n",
       "      <td>Mario Kart Wii</td>\n",
       "      <td>Wii</td>\n",
       "      <td>2008.0</td>\n",
       "      <td>Racing</td>\n",
       "      <td>Nintendo</td>\n",
       "      <td>15.68</td>\n",
       "      <td>12.76</td>\n",
       "      <td>3.79</td>\n",
       "      <td>3.29</td>\n",
       "      <td>35.52</td>\n",
       "      <td>82.0</td>\n",
       "      <td>73.0</td>\n",
       "      <td>8.3</td>\n",
       "      <td>709.0</td>\n",
       "      <td>Nintendo</td>\n",
       "      <td>E</td>\n",
       "    </tr>\n",
       "    <tr>\n",
       "      <th>3</th>\n",
       "      <td>3</td>\n",
       "      <td>Wii Sports Resort</td>\n",
       "      <td>Wii</td>\n",
       "      <td>2009.0</td>\n",
       "      <td>Sports</td>\n",
       "      <td>Nintendo</td>\n",
       "      <td>15.61</td>\n",
       "      <td>10.93</td>\n",
       "      <td>3.28</td>\n",
       "      <td>2.95</td>\n",
       "      <td>32.77</td>\n",
       "      <td>80.0</td>\n",
       "      <td>73.0</td>\n",
       "      <td>8</td>\n",
       "      <td>192.0</td>\n",
       "      <td>Nintendo</td>\n",
       "      <td>E</td>\n",
       "    </tr>\n",
       "    <tr>\n",
       "      <th>4</th>\n",
       "      <td>4</td>\n",
       "      <td>Pokemon Red/Pokemon Blue</td>\n",
       "      <td>GB</td>\n",
       "      <td>1996.0</td>\n",
       "      <td>Role-Playing</td>\n",
       "      <td>Nintendo</td>\n",
       "      <td>11.27</td>\n",
       "      <td>8.89</td>\n",
       "      <td>10.22</td>\n",
       "      <td>1.00</td>\n",
       "      <td>31.37</td>\n",
       "      <td>NaN</td>\n",
       "      <td>NaN</td>\n",
       "      <td>NaN</td>\n",
       "      <td>NaN</td>\n",
       "      <td>NaN</td>\n",
       "      <td>NaN</td>\n",
       "    </tr>\n",
       "  </tbody>\n",
       "</table>\n",
       "</div>"
      ],
      "text/plain": [
       "   Unnamed: 0                      Name Platform  Year_of_Release  \\\n",
       "0           0                Wii Sports      Wii           2006.0   \n",
       "1           1         Super Mario Bros.      NES           1985.0   \n",
       "2           2            Mario Kart Wii      Wii           2008.0   \n",
       "3           3         Wii Sports Resort      Wii           2009.0   \n",
       "4           4  Pokemon Red/Pokemon Blue       GB           1996.0   \n",
       "\n",
       "          Genre Publisher  NA_Sales  EU_Sales  JP_Sales  Other_Sales  \\\n",
       "0        Sports  Nintendo     41.36     28.96      3.77         8.45   \n",
       "1      Platform  Nintendo     29.08      3.58      6.81         0.77   \n",
       "2        Racing  Nintendo     15.68     12.76      3.79         3.29   \n",
       "3        Sports  Nintendo     15.61     10.93      3.28         2.95   \n",
       "4  Role-Playing  Nintendo     11.27      8.89     10.22         1.00   \n",
       "\n",
       "   Global_Sales  Critic_Score  Critic_Count User_Score  User_Count Developer  \\\n",
       "0         82.53          76.0          51.0          8       322.0  Nintendo   \n",
       "1         40.24           NaN           NaN        NaN         NaN       NaN   \n",
       "2         35.52          82.0          73.0        8.3       709.0  Nintendo   \n",
       "3         32.77          80.0          73.0          8       192.0  Nintendo   \n",
       "4         31.37           NaN           NaN        NaN         NaN       NaN   \n",
       "\n",
       "  Rating  \n",
       "0      E  \n",
       "1    NaN  \n",
       "2      E  \n",
       "3      E  \n",
       "4    NaN  "
      ]
     },
     "execution_count": 3,
     "metadata": {},
     "output_type": "execute_result"
    }
   ],
   "source": [
    "games.head()"
   ]
  },
  {
   "cell_type": "code",
   "execution_count": 4,
   "metadata": {},
   "outputs": [
    {
     "data": {
      "text/html": [
       "<div>\n",
       "<style scoped>\n",
       "    .dataframe tbody tr th:only-of-type {\n",
       "        vertical-align: middle;\n",
       "    }\n",
       "\n",
       "    .dataframe tbody tr th {\n",
       "        vertical-align: top;\n",
       "    }\n",
       "\n",
       "    .dataframe thead th {\n",
       "        text-align: right;\n",
       "    }\n",
       "</style>\n",
       "<table border=\"1\" class=\"dataframe\">\n",
       "  <thead>\n",
       "    <tr style=\"text-align: right;\">\n",
       "      <th></th>\n",
       "      <th>Unnamed: 0</th>\n",
       "      <th>Year_of_Release</th>\n",
       "      <th>NA_Sales</th>\n",
       "      <th>EU_Sales</th>\n",
       "      <th>JP_Sales</th>\n",
       "      <th>Other_Sales</th>\n",
       "      <th>Global_Sales</th>\n",
       "      <th>Critic_Score</th>\n",
       "      <th>Critic_Count</th>\n",
       "      <th>User_Count</th>\n",
       "    </tr>\n",
       "  </thead>\n",
       "  <tbody>\n",
       "    <tr>\n",
       "      <th>count</th>\n",
       "      <td>16719.000000</td>\n",
       "      <td>16450.000000</td>\n",
       "      <td>16719.000000</td>\n",
       "      <td>16719.000000</td>\n",
       "      <td>16719.000000</td>\n",
       "      <td>16719.000000</td>\n",
       "      <td>16719.000000</td>\n",
       "      <td>8137.000000</td>\n",
       "      <td>8137.000000</td>\n",
       "      <td>7590.000000</td>\n",
       "    </tr>\n",
       "    <tr>\n",
       "      <th>mean</th>\n",
       "      <td>8359.000000</td>\n",
       "      <td>2006.487356</td>\n",
       "      <td>0.263330</td>\n",
       "      <td>0.145025</td>\n",
       "      <td>0.077602</td>\n",
       "      <td>0.047332</td>\n",
       "      <td>0.533543</td>\n",
       "      <td>68.967679</td>\n",
       "      <td>26.360821</td>\n",
       "      <td>162.229908</td>\n",
       "    </tr>\n",
       "    <tr>\n",
       "      <th>std</th>\n",
       "      <td>4826.503911</td>\n",
       "      <td>5.878995</td>\n",
       "      <td>0.813514</td>\n",
       "      <td>0.503283</td>\n",
       "      <td>0.308818</td>\n",
       "      <td>0.186710</td>\n",
       "      <td>1.547935</td>\n",
       "      <td>13.938165</td>\n",
       "      <td>18.980495</td>\n",
       "      <td>561.282326</td>\n",
       "    </tr>\n",
       "    <tr>\n",
       "      <th>min</th>\n",
       "      <td>0.000000</td>\n",
       "      <td>1980.000000</td>\n",
       "      <td>0.000000</td>\n",
       "      <td>0.000000</td>\n",
       "      <td>0.000000</td>\n",
       "      <td>0.000000</td>\n",
       "      <td>0.010000</td>\n",
       "      <td>13.000000</td>\n",
       "      <td>3.000000</td>\n",
       "      <td>4.000000</td>\n",
       "    </tr>\n",
       "    <tr>\n",
       "      <th>25%</th>\n",
       "      <td>4179.500000</td>\n",
       "      <td>2003.000000</td>\n",
       "      <td>0.000000</td>\n",
       "      <td>0.000000</td>\n",
       "      <td>0.000000</td>\n",
       "      <td>0.000000</td>\n",
       "      <td>0.060000</td>\n",
       "      <td>60.000000</td>\n",
       "      <td>12.000000</td>\n",
       "      <td>10.000000</td>\n",
       "    </tr>\n",
       "    <tr>\n",
       "      <th>50%</th>\n",
       "      <td>8359.000000</td>\n",
       "      <td>2007.000000</td>\n",
       "      <td>0.080000</td>\n",
       "      <td>0.020000</td>\n",
       "      <td>0.000000</td>\n",
       "      <td>0.010000</td>\n",
       "      <td>0.170000</td>\n",
       "      <td>71.000000</td>\n",
       "      <td>21.000000</td>\n",
       "      <td>24.000000</td>\n",
       "    </tr>\n",
       "    <tr>\n",
       "      <th>75%</th>\n",
       "      <td>12538.500000</td>\n",
       "      <td>2010.000000</td>\n",
       "      <td>0.240000</td>\n",
       "      <td>0.110000</td>\n",
       "      <td>0.040000</td>\n",
       "      <td>0.030000</td>\n",
       "      <td>0.470000</td>\n",
       "      <td>79.000000</td>\n",
       "      <td>36.000000</td>\n",
       "      <td>81.000000</td>\n",
       "    </tr>\n",
       "    <tr>\n",
       "      <th>max</th>\n",
       "      <td>16718.000000</td>\n",
       "      <td>2020.000000</td>\n",
       "      <td>41.360000</td>\n",
       "      <td>28.960000</td>\n",
       "      <td>10.220000</td>\n",
       "      <td>10.570000</td>\n",
       "      <td>82.530000</td>\n",
       "      <td>98.000000</td>\n",
       "      <td>113.000000</td>\n",
       "      <td>10665.000000</td>\n",
       "    </tr>\n",
       "  </tbody>\n",
       "</table>\n",
       "</div>"
      ],
      "text/plain": [
       "         Unnamed: 0  Year_of_Release      NA_Sales      EU_Sales  \\\n",
       "count  16719.000000     16450.000000  16719.000000  16719.000000   \n",
       "mean    8359.000000      2006.487356      0.263330      0.145025   \n",
       "std     4826.503911         5.878995      0.813514      0.503283   \n",
       "min        0.000000      1980.000000      0.000000      0.000000   \n",
       "25%     4179.500000      2003.000000      0.000000      0.000000   \n",
       "50%     8359.000000      2007.000000      0.080000      0.020000   \n",
       "75%    12538.500000      2010.000000      0.240000      0.110000   \n",
       "max    16718.000000      2020.000000     41.360000     28.960000   \n",
       "\n",
       "           JP_Sales   Other_Sales  Global_Sales  Critic_Score  Critic_Count  \\\n",
       "count  16719.000000  16719.000000  16719.000000   8137.000000   8137.000000   \n",
       "mean       0.077602      0.047332      0.533543     68.967679     26.360821   \n",
       "std        0.308818      0.186710      1.547935     13.938165     18.980495   \n",
       "min        0.000000      0.000000      0.010000     13.000000      3.000000   \n",
       "25%        0.000000      0.000000      0.060000     60.000000     12.000000   \n",
       "50%        0.000000      0.010000      0.170000     71.000000     21.000000   \n",
       "75%        0.040000      0.030000      0.470000     79.000000     36.000000   \n",
       "max       10.220000     10.570000     82.530000     98.000000    113.000000   \n",
       "\n",
       "         User_Count  \n",
       "count   7590.000000  \n",
       "mean     162.229908  \n",
       "std      561.282326  \n",
       "min        4.000000  \n",
       "25%       10.000000  \n",
       "50%       24.000000  \n",
       "75%       81.000000  \n",
       "max    10665.000000  "
      ]
     },
     "execution_count": 4,
     "metadata": {},
     "output_type": "execute_result"
    }
   ],
   "source": [
    "games.describe()"
   ]
  },
  {
   "cell_type": "markdown",
   "metadata": {},
   "source": [
    "### Задача 1\n",
    "\n",
    "Определите количество пропущенных значений признака, содержащих информацию о названиях разработчиков игр (переменная `Developer`). Выпишите найденное количество пропущенных значений.\n",
    "\n",
    "Пример ответа: 100.00"
   ]
  },
  {
   "cell_type": "code",
   "execution_count": 5,
   "metadata": {},
   "outputs": [
    {
     "name": "stdout",
     "output_type": "stream",
     "text": [
      "Ответ: 6623 записей\n"
     ]
    }
   ],
   "source": [
    "miss_dev = games['Developer'].isna().sum()\n",
    "print(f'Ответ: {miss_dev} записей')"
   ]
  },
  {
   "cell_type": "markdown",
   "metadata": {},
   "source": [
    "### Задача 2\n",
    "\n",
    "Определите количество пропущенных значений признака, содержащих информацию о названиях разработчиков игр (переменная `Developer`). Замените пропущенные значения этого признака на моду по этому признаку и сохраните полученный признак без пропущенных значений в отдельную переменную, не включаемую в исходную таблицу. Выпишите количество значений этой переменной, равной ее моде.\n",
    "\n",
    "Пример ответа: 100"
   ]
  },
  {
   "cell_type": "code",
   "execution_count": 13,
   "metadata": {},
   "outputs": [
    {
     "name": "stdout",
     "output_type": "stream",
     "text": [
      "Количество пропущенных значений в Developer: 6623\n",
      "Количество значений признака Developer, равных моде: 6827\n"
     ]
    }
   ],
   "source": [
    "missing_developer_count = games['Developer'].isna().sum()\n",
    "print(f\"Количество пропущенных значений в Developer: {missing_developer_count}\")\n",
    "\n",
    "developer_mode = games['Developer'].mode()[0]\n",
    "\n",
    "developer_filled = games['Developer'].fillna(developer_mode)\n",
    "\n",
    "mode_count = (developer_filled == developer_mode).sum()\n",
    "print(f\"Количество значений признака Developer, равных моде: {mode_count}\")"
   ]
  },
  {
   "cell_type": "markdown",
   "metadata": {},
   "source": [
    "### Задача 3\n",
    "\n",
    "Постройте ящик с усами для агрегированного рейтинга команды Metacritic. Прокомментируйте полученное распределение. "
   ]
  },
  {
   "cell_type": "code",
   "execution_count": 20,
   "metadata": {},
   "outputs": [
    {
     "data": {
      "text/plain": [
       "<Axes: >"
      ]
     },
     "execution_count": 20,
     "metadata": {},
     "output_type": "execute_result"
    },
    {
     "data": {
      "image/png": "[encoded data removed]",
      "text/plain": [
       "<Figure size 1000x600 with 1 Axes>"
      ]
     },
     "metadata": {},
     "output_type": "display_data"
    }
   ],
   "source": [
    "games['Critic_Score'].dropna().plot.box(\n",
    "    vert=False,  # Горизонтальная ориентация\n",
    "    figsize=(10, 6),  # Размер графика\n",
    "    grid=True,  # Отображение сетки\n",
    "    color=\"blue\"  # Цвет коробки\n",
    ")\n",
    "\n",
    "# * Ящик с усами (boxplot) дает наглядное представление \n",
    "#     о распределении оценок игр. Медиана (`50%` квантиль) находится \n",
    "#     в центре ящика, что говорит о сбалансированности оценок.\n",
    "# * Размах данных (длина усов) свидетельствует о том, что большинство \n",
    "#     оценок сосредоточено в относительно узком диапазоне.\n",
    "# * Точки за пределами усов — это выбросы, отражающие игры с необычно \n",
    "#     низкими или высокими оценками.\n"
   ]
  },
  {
   "cell_type": "markdown",
   "metadata": {},
   "source": [
    "### Задача 4\n",
    "\n",
    "Постройте гистограмму для агрегированного рейтинга команды Metacritic. Усовершенствуйте полученную гистограмму: \n",
    "\n",
    "* настройте цвет;\n",
    "* добавьте подписи к осям;\n",
    "\n",
    "Сделайте картинку размера 16 на 9 дюймов с разрешением 300 точек на дюйм и выгрузите в png-файл."
   ]
  },
  {
   "cell_type": "code",
   "execution_count": 21,
   "metadata": {},
   "outputs": [
    {
     "data": {
      "image/png": "[encoded data removed]",
      "text/plain": [
       "<Figure size 1600x900 with 1 Axes>"
      ]
     },
     "metadata": {},
     "output_type": "display_data"
    }
   ],
   "source": [
    "ax = games['Critic_Score'].plot.hist(\n",
    "    bins=20,\n",
    "    color='skyblue',\n",
    "    edgecolor='black',\n",
    "    figsize=(16, 9),\n",
    "    grid=True,\n",
    ")\n",
    "\n",
    "ax.set_title('Гистограмма для Critic_Score', fontsize=14)\n",
    "ax.set_xlabel('Critic Score', fontsize=12)\n",
    "ax.set_ylabel('Количество игр', fontsize=12)\n",
    "\n",
    "fig = ax.get_figure()\n",
    "fig.savefig('critic_score_histogram_pandas.png', dpi=300)"
   ]
  }
 ],
 "metadata": {
  "kernelspec": {
   "display_name": "Python 3 (ipykernel)",
   "language": "python",
   "name": "python3"
  },
  "language_info": {
   "codemirror_mode": {
    "name": "ipython",
    "version": 3
   },
   "file_extension": ".py",
   "mimetype": "text/x-python",
   "name": "python",
   "nbconvert_exporter": "python",
   "pygments_lexer": "ipython3",
   "version": "3.10.12"
  }
 },
 "nbformat": 4,
 "nbformat_minor": 4
}
